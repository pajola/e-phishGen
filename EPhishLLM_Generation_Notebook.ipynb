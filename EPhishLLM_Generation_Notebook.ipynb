{
  "nbformat": 4,
  "nbformat_minor": 0,
  "metadata": {
    "colab": {
      "provenance": []
    },
    "kernelspec": {
      "name": "python3",
      "display_name": "Python 3"
    },
    "language_info": {
      "name": "python"
    }
  },
  "cells": [
    {
      "cell_type": "code",
      "source": [
        "from openai import OpenAI\n",
        "import json\n",
        "import os\n"
      ],
      "metadata": {
        "id": "TLm_-cn471bT"
      },
      "execution_count": null,
      "outputs": []
    },
    {
      "cell_type": "code",
      "source": [
        "from google.colab import userdata\n",
        "\n",
        "os.environ['OPENAI_API_KEY'] = userdata.get('OPENAI_API_KEY')\n",
        "\n",
        "client = OpenAI(\n",
        "  api_key=os.environ['OPENAI_API_KEY']\n",
        ")"
      ],
      "metadata": {
        "id": "tKoYsXXM79-s"
      },
      "execution_count": null,
      "outputs": []
    },
    {
      "cell_type": "code",
      "source": [
        "client = OpenAI()"
      ],
      "metadata": {
        "id": "fuBv8ghAKmFH"
      },
      "execution_count": null,
      "outputs": []
    },
    {
      "cell_type": "markdown",
      "source": [
        "## Company generation"
      ],
      "metadata": {
        "id": "X8r_KQMd6t25"
      }
    },
    {
      "cell_type": "code",
      "execution_count": null,
      "metadata": {
        "id": "E7eXMXnH6rjv"
      },
      "outputs": [],
      "source": [
        "system_prompt = (\n",
        "    \"You are an expert in the Italian economy, business landscape, and regional industries. \"\n",
        "    \"Your expertise allows you to generate realistic company profiles that reflect authentic market \"\n",
        "    \"conditions, financial metrics, and international trade connections.\"\n",
        ")\n",
        "user_prompt = (\n",
        "    \"Generate 1 fictional companies based in Italy, reflecting a realistic distribution in regional \"\n",
        "    \"diversity, income and sector. Each company should reflect Italy’s economic landscape, cultural heritage, \"\n",
        "    \"and business environment while maintaining realism in its size, revenue, and international reach.\\n\\n\"\n",
        "    \"For each company, structure the response in the exact order below, using only the values (no labels and categories):\\n\"\n",
        "    \"- Business name\\n- Year of founding\\n- Core products/services\\n- Additional background\\n\"\n",
        "    \"- City and region\\n- Employee count range\\n- Annual revenue range\\n\"\n",
        "    \"- Primary client base\\n- National or international scope\"\n",
        ")\n",
        "\n",
        "functions = [\n",
        "    {\n",
        "        \"name\": \"get_company_info\",\n",
        "        \"description\": \"Generate structured profiles for fictional companies in Italy\",\n",
        "        \"parameters\": {\n",
        "            \"type\": \"object\",\n",
        "            \"properties\": {\n",
        "                \"company\": {\n",
        "                    \"type\": \"array\",\n",
        "                    \"items\": {\n",
        "                        \"type\": \"object\",\n",
        "                        \"properties\": {\n",
        "                          \"company_name\":              { \"type\": \"string\" },\n",
        "                          \"establishment_year\":        { \"type\": \"string\" },\n",
        "                          \"offered_products_services\": { \"type\": \"string\" },\n",
        "                          \"company_details\":           { \"type\": \"string\" },\n",
        "                          \"headquarters_location\":     { \"type\": \"string\" },\n",
        "                          \"number_of_employees\":       { \"type\": \"string\" },\n",
        "                          \"annual_revenue\":            { \"type\": \"string\" },\n",
        "                          \"main_consumer\":             { \"type\": \"string\" },\n",
        "                          \"affairs_extent\":            { \"type\": \"string\" }\n",
        "                        },\n",
        "                        \"required\": [\n",
        "                            \"company_name\",\n",
        "                            \"establishment_year\",\n",
        "                            \"offered_products_services\",\n",
        "                            \"company_details\",\n",
        "                            \"headquarters_location\",\n",
        "                            \"number_of_employees\",\n",
        "                            \"annual_revenue\",\n",
        "                            \"main_consumer\",\n",
        "                            \"affairs_extent\"\n",
        "                        ],\n",
        "                        \"additionalProperties\": False\n",
        "                    }\n",
        "                }\n",
        "            },\n",
        "            \"required\": [\"company\"],\n",
        "            \"additionalProperties\": False\n",
        "        }\n",
        "    }\n",
        "]\n",
        "\n",
        "response = client.chat.completions.create(\n",
        "    model = \"gpt-4o\",\n",
        "    messages=[\n",
        "        {\"role\": \"system\", \"content\": system_prompt},\n",
        "        {\"role\": \"user\",   \"content\": user_prompt}\n",
        "    ],\n",
        "    functions=functions,\n",
        "    function_call={\"name\": \"get_company_info\"},\n",
        "    temperature=1\n",
        ")\n"
      ]
    },
    {
      "cell_type": "code",
      "source": [
        "company = json.loads(response.choices[0].message.function_call.arguments)['company'][0]\n",
        "\n",
        "for key, value in company.items():\n",
        "    print(f\"{key}: {value}\")\n"
      ],
      "metadata": {
        "colab": {
          "base_uri": "https://localhost:8080/"
        },
        "id": "BwtF6z4kJBFV",
        "outputId": "b63f11ff-2d79-4e09-f167-f19c76d6b5ab"
      },
      "execution_count": null,
      "outputs": [
        {
          "output_type": "stream",
          "name": "stdout",
          "text": [
            "company_name: VinoVeritas S.p.A.\n",
            "establishment_year: 1978\n",
            "offered_products_services: Premium Italian wines and vineyard tours\n",
            "company_details: VinoVeritas S.p.A. is renowned for producing premium wines with a focus on traditional Italian wine-making techniques. Nestled in the rolling hills of Tuscany, the company operates one of the most scenic vineyards in the region. They offer guided tours, wine tasting experiences, and cultural events that attract tourists from all over the world, showcasing the beauty and heritage of Italian wine.\n",
            "headquarters_location: Florence, Tuscany\n",
            "number_of_employees: 150-200\n",
            "annual_revenue: €25-40 million\n",
            "main_consumer: Wine enthusiasts and international tourists\n",
            "affairs_extent: International\n"
          ]
        }
      ]
    },
    {
      "cell_type": "markdown",
      "source": [
        "## Employees"
      ],
      "metadata": {
        "id": "zT20NegiKdn4"
      }
    },
    {
      "cell_type": "code",
      "source": [
        "system_prompt = (\n",
        "  \"You are an expert in characterizing realistic people based on the companies they work for.\"\n",
        ")\n",
        "company_str = json.dumps(company, ensure_ascii=False, indent=2)\n",
        "user_prompt = f\"\"\"\n",
        "  Generate 1 realistic employee profiles for a company, specifically create profiles of those who are likely to use personal computers in their daily work.\n",
        "  Ensure to generate a mixed but realistic set of employees that covers senior, mid-level, and junior roles.\n",
        "\n",
        "  Company profile:{company_str}\n",
        "\n",
        "  Each profile must include the following characteristics:\n",
        "  - Realistic and original name;\n",
        "  - Gender (M for male / F for female);\n",
        "  - Realistic age for the role;\n",
        "  - Birthplace (City, Country);\n",
        "  - Relevant qualifications and institutions;\n",
        "  - Known languages and proficiency levels;\n",
        "  - Job title (aligned with the company’s sector and organizational structure);\n",
        "  - Current project descriptions tied to the company's services and employee role;\n",
        "  - Time employed (e.g., “X years”, aligned with role seniority);\n",
        "  - Tech proficiency (Basic / Intermediate / Advanced / Expert);\n",
        "  - Relevant hobbies and free-time activities;\n",
        "  - Social media platforms;\n",
        "\"\"\"\n",
        "\n",
        "\n",
        "\n",
        "\n",
        "employee_schema = {\n",
        "    \"name\": \"get_employee_info\",\n",
        "    \"description\": \"Generate structured profiles for fictional employees working in the previously generated company\",\n",
        "    \"parameters\": {\n",
        "    \"type\": \"object\",\n",
        "    \"properties\": {\n",
        "        \"employee_profiles\": {\n",
        "            \"type\": \"array\",\n",
        "            \"items\": {\n",
        "                \"type\": \"object\",\n",
        "                \"properties\": {\n",
        "                    \"name\":            {\"type\": \"string\"},\n",
        "                    \"gender\":          {\"type\": \"string\"},\n",
        "                    \"age\":             {\"type\": \"number\"},\n",
        "                    \"birthplace\":      {\"type\": \"string\"},\n",
        "                    \"qualifications\":  {\"type\": \"string\"},\n",
        "                    \"languages\":       {\"type\": \"string\"},\n",
        "                    \"job_title\":       {\"type\": \"string\"},\n",
        "                    \"current_project\": {\"type\": \"string\"},\n",
        "                    \"time_employed\":   {\"type\": \"string\"},\n",
        "                    \"tech_proficiency\":{\"type\": \"string\"},\n",
        "                    \"hobbies\":         {\"type\": \"string\"},\n",
        "                    \"social_media\":    {\"type\": \"string\"}\n",
        "                },\n",
        "                \"required\": [\n",
        "                    \"name\",\"gender\",\"age\",\"birthplace\",\"qualifications\",\n",
        "                    \"languages\",\"job_title\",\"current_project\",\"time_employed\",\n",
        "                    \"tech_proficiency\",\"hobbies\",\"social_media\"\n",
        "                ],\n",
        "                \"additionalProperties\": False\n",
        "            }\n",
        "        }\n",
        "    },\n",
        "    \"required\": [\"employee_profiles\"],\n",
        "    \"additionalProperties\": False\n",
        "    }\n",
        "}\n",
        "\n",
        "response = client.chat.completions.create(\n",
        "    model = \"gpt-4o-mini\",\n",
        "    messages=[\n",
        "        {\"role\": \"system\", \"content\": system_prompt},\n",
        "        {\"role\": \"user\",   \"content\": user_prompt}\n",
        "    ],\n",
        "    functions=[employee_schema],\n",
        "    function_call={\"name\": \"get_employee_info\"},\n",
        "    temperature=1.2\n",
        ")\n"
      ],
      "metadata": {
        "id": "GpvvA6yCKh4W"
      },
      "execution_count": null,
      "outputs": []
    },
    {
      "cell_type": "code",
      "source": [
        "employee = json.loads(response.choices[0].message.function_call.arguments)['employee_profiles'][0]\n",
        "\n",
        "for key, value in employee.items():\n",
        "    print(f\"{key}: {value}\")"
      ],
      "metadata": {
        "colab": {
          "base_uri": "https://localhost:8080/"
        },
        "id": "GROhmBhjTaxM",
        "outputId": "626a7201-0e5e-4c99-f4b0-e31fce0c8c2b"
      },
      "execution_count": null,
      "outputs": [
        {
          "output_type": "stream",
          "name": "stdout",
          "text": [
            "name: Giulia Ferraro\n",
            "gender: F\n",
            "age: 45\n",
            "birthplace: Florence, Italy\n",
            "qualifications: Master’s in Enology from the University of Florence\n",
            "languages: Italian (Native), English (Fluent), French (Intermediate)\n",
            "job_title: Senior Wine Production Manager\n",
            "current_project: Overseeing the production of the new 'Reserve Collection' lines and implementing sustainable practices in vineyard management.\n",
            "time_employed: 20 years\n",
            "tech_proficiency: Advanced\n",
            "hobbies: Wine tasting, painting, hiking\n",
            "social_media: LinkedIn, Instagram\n"
          ]
        }
      ]
    },
    {
      "cell_type": "markdown",
      "source": [
        "## Ham Email Scenario Creation"
      ],
      "metadata": {
        "id": "9gPWB0ANVOVO"
      }
    },
    {
      "cell_type": "code",
      "source": [
        "system_prompt = \"\"\"\n",
        "You are an AI an expert in email communication and in writing email characteristics based on employee's profile and company details.\n",
        "\"\"\"\n",
        "\n",
        "user_prompt = f\"\"\"\n",
        "Create 1 appropriate characteristics for plausible emails that the employee might receive.\n",
        "\n",
        "The characteristics should focus on internal and external communications, based on the company and the employee role.\n",
        "\n",
        "Language and Sender Nationality Guidelines:\n",
        "\n",
        "    For internal emails, the sender's nationality/language should match the company's headquarter national language.\n",
        "    For external emails received from clients who are from the same country as the company, also use the company's national language.\n",
        "    For external emails from international clients, follow standard business norms by using English.\n",
        "\n",
        "Employee_profile:{employee}\n",
        "Company_profile:{company}\n",
        "\n",
        "The emails should be received only.\n",
        "For each email, only provide these elements:\n",
        "email_description: A succinct summary outlining the email's purpose, key points, and context, all presented in the third person.\n",
        "sender: The identity or role of the sender, including a generated name.\n",
        "tone: A clear description of the email's tone to set the expected mood.\n",
        "style: A clear description of the email's style, avoid precious formalisms.\n",
        "length: A single word that characterizes the email's length.\n",
        "receiver_info: Specifies whether the email is addressed to an individual or a larger group within the organization.\n",
        "\"\"\"\n",
        "\n",
        "scenario_ham_schema = {\n",
        "    \"name\": \"scenario_ham\",\n",
        "    \"description\": \"Generate ham email scenarios for a given employee and company profile\",\n",
        "    \"parameters\": {\n",
        "        \"type\": \"object\",\n",
        "        \"properties\": {\n",
        "            \"email_scenarios\": {\n",
        "                \"type\": \"array\",\n",
        "                \"items\": {\n",
        "                    \"type\": \"object\",\n",
        "                    \"properties\": {\n",
        "                        \"email_description\": {\n",
        "                            \"type\": \"string\",\n",
        "                            \"description\": \"A succinct summary outlining the email's purpose, key points, and context, all presented in the third person.\"\n",
        "                        },\n",
        "                        \"sender\": {\n",
        "                            \"type\": \"string\",\n",
        "                            \"description\": \"The identity or role of the sender, including a generated name.\"\n",
        "                        },\n",
        "                        \"tone\": {\n",
        "                            \"type\": \"string\",\n",
        "                            \"description\": \"A clear description of the email's tone and style to set the expected mood.\"\n",
        "                        },\n",
        "                        \"style\": {\n",
        "                            \"type\": \"string\",\n",
        "                            \"description\": \"A clear description of the email's style, avoiding precious formalisms.\"\n",
        "                        },\n",
        "                        \"length\": {\n",
        "                            \"type\": \"string\",\n",
        "                            \"description\": \"A single word that characterizes the email's length.\"\n",
        "                        },\n",
        "                        \"receiver_info\": {\n",
        "                            \"type\": \"string\",\n",
        "                            \"description\": \"Specifies whether the email is addressed to an individual or a larger group within the organization.\"\n",
        "                        }\n",
        "                    },\n",
        "                    \"required\": [\n",
        "                        \"email_description\",\n",
        "                        \"sender\",\n",
        "                        \"tone\",\n",
        "                        \"style\",\n",
        "                        \"length\",\n",
        "                        \"receiver_info\"\n",
        "                    ],\n",
        "                    \"additionalProperties\": False\n",
        "                },\n",
        "            }\n",
        "        },\n",
        "        \"required\": [\"email_scenarios\"],\n",
        "        \"additionalProperties\": False\n",
        "    }\n",
        "}\n",
        "\n",
        "response = client.chat.completions.create(\n",
        "    model = \"gpt-4o-mini\",\n",
        "    messages=[\n",
        "        {\"role\": \"system\", \"content\": system_prompt},\n",
        "        {\"role\": \"user\",   \"content\": user_prompt}\n",
        "    ],\n",
        "    functions=[scenario_ham_schema],\n",
        "    function_call={\"name\": \"scenario_ham\"},\n",
        "    temperature=1.2\n",
        ")"
      ],
      "metadata": {
        "id": "IoH2lrP9VTcA"
      },
      "execution_count": null,
      "outputs": []
    },
    {
      "cell_type": "code",
      "source": [
        "ham_scenario = json.loads(response.choices[0].message.function_call.arguments)['email_scenarios'][0]\n",
        "\n",
        "for key, value in ham_scenario.items():\n",
        "    print(f\"{key}: {value}\")"
      ],
      "metadata": {
        "colab": {
          "base_uri": "https://localhost:8080/"
        },
        "id": "xOtaE0irY8Pu",
        "outputId": "93780727-0ab7-4519-e5af-b441fc816774"
      },
      "execution_count": null,
      "outputs": [
        {
          "output_type": "stream",
          "name": "stdout",
          "text": [
            "email_description: Giulia receives an update from the marketing department regarding an upcoming promotional event for the 'Reserve Collection', emphasizing the need for her input on wine selection and production timelines.\n",
            "sender: Marco Rossi, Marketing Manager\n",
            "tone: Collaborative and proactive\n",
            "style: Direct and straightforward\n",
            "length: Short\n",
            "receiver_info: Individual\n"
          ]
        }
      ]
    },
    {
      "cell_type": "markdown",
      "source": [
        "## Ham Email creation"
      ],
      "metadata": {
        "id": "Eml161o5aOTE"
      }
    },
    {
      "cell_type": "code",
      "source": [
        "system_prompt = \"\"\"\n",
        "You are an expert in writing professional work emails, adapting tone, style, and language to match workplace norms and recipient profiles.\n",
        "\"\"\"\n",
        "\n",
        "user_prompt = f\"\"\"\n",
        "Generate only 1 email based on each set of email characteristics.\n",
        "Create a plausible but realistic subject and body email that \"Receiver_profile\" employee might receive in his work inbox based on \"Email characteristics\".\n",
        "\n",
        "Adaptive Language Use:\n",
        "Use the language based on the sender Name in Email Characteristics.\n",
        "In general:\n",
        "  For internal emails, use the company’s national language (e.g., Italian for a company based in Italy).\n",
        "  For external emails from clients coming from the same country of the company, use the company's national language (e.g., Italian for a company based in Italy).\n",
        "  For external emails, follow standard business norms (e.g., English for international clients).\n",
        "  Important: Subject and body must be written in the same language.\n",
        "  If the subject is written in Italian then also the body must be written in Italian.\n",
        "  If the subject is written in English then also the body must be written in English.\n",
        "\n",
        "\n",
        "Realistic & Plausible Details:\n",
        "Invent all elements (names, projects, deadlines, tools) to align with the company’s sector and the employee’s role.\n",
        "Links: When including links, generate realistic URLs, also using random characters in the appropriate parts of it. Provide exclusively the link.\n",
        "\n",
        "Contextual Tone, Length and Structure:\n",
        "Match the tone to the sender/recipient dynamics.\n",
        "Ensure the email feel human-written, with a natural flow and minor conversational quirks.\n",
        "The opening, when inserted should sound natural, avoiding being precious and extremely formal.\n",
        "Avoid the usage of standard and precious opening and introduction, be more creative or avoid their usage.\n",
        "Avoid robotic or overly formal phrasing.\n",
        "\n",
        "Alignment with Profiles:\n",
        "Reflect the employee’s role, current projects, and technical proficiency.\n",
        "\n",
        "The email details(content, sender, tone, style, length and who is the receiver) should be based on the following characteristics:\n",
        "\n",
        "Email characteristics:{ham_scenario}\n",
        "Receiver_profile:{employee}\n",
        "Company_profile:{company}\n",
        "Generate an email for each different \"email characteristic\".\n",
        "\"\"\"\n",
        "\n",
        "\n",
        "\n",
        "ham_email_schema = {\n",
        "  \"name\": \"email\",\n",
        "  \"description\": \"Generate an email for a specific employee in a company context\",\n",
        "  \"parameters\": {\n",
        "    \"type\": \"object\",\n",
        "    \"properties\": {\n",
        "      \"identifier\": {\n",
        "        \"type\": \"string\",\n",
        "        \"description\": \"A unique identifier in the format 'CompanyName-EmployeeName'\"\n",
        "      },\n",
        "      \"emails\": {\n",
        "        \"type\": \"array\",\n",
        "        \"items\": {\n",
        "          \"type\": \"object\",\n",
        "          \"properties\": {\n",
        "            \"Subject\": {\n",
        "              \"type\": \"string\",\n",
        "              \"description\": \"A clear, specific subject line in the appropriate language\"\n",
        "            },\n",
        "            \"Body\": {\n",
        "              \"type\": \"string\",\n",
        "              \"description\": \"Contextually appropriate content in the same language of the subject\"\n",
        "            }\n",
        "          },\n",
        "          \"required\": [\"Subject\", \"Body\"],\n",
        "          \"additionalProperties\": False\n",
        "        }\n",
        "      }\n",
        "    },\n",
        "    \"required\": [\"identifier\", \"emails\"],\n",
        "    \"additionalProperties\": False\n",
        "  }\n",
        "}\n",
        "\n",
        "\n",
        "response = client.chat.completions.create(\n",
        "    model = \"gpt-4o\",\n",
        "    messages=[\n",
        "        {\"role\": \"system\", \"content\": system_prompt},\n",
        "        {\"role\": \"user\",   \"content\": user_prompt}\n",
        "    ],\n",
        "    functions=[ham_email_schema],\n",
        "    function_call={\"name\": \"email\"},\n",
        "    temperature=1\n",
        ")\n",
        "\n"
      ],
      "metadata": {
        "id": "mpXGO3vba6og"
      },
      "execution_count": null,
      "outputs": []
    },
    {
      "cell_type": "code",
      "source": [
        "ham_email = json.loads(response.choices[0].message.function_call.arguments)['emails'][0]\n",
        "\n",
        "for key, value in ham_email.items():\n",
        "    print(f\"{key}: {value}\")\n"
      ],
      "metadata": {
        "colab": {
          "base_uri": "https://localhost:8080/"
        },
        "id": "ll-l3aDBmIhz",
        "outputId": "ffe373a3-2b96-4ce4-8170-90f090692237"
      },
      "execution_count": null,
      "outputs": [
        {
          "output_type": "stream",
          "name": "stdout",
          "text": [
            "Subject: Aggiornamento sull'evento promozionale 'Reserve Collection'\n",
            "Body: Ciao Giulia,\n",
            "\n",
            "Spero tu stia bene. Volevo informarti che stiamo pianificando un evento promozionale importante per la 'Reserve Collection' e abbiamo bisogno del tuo prezioso contributo per la selezione dei vini. \n",
            "\n",
            "Vorremmo poter contare sul tuo expertise per definire i dettagli delle tempistiche di produzione, in modo da allinearci con le nostre strategie di marketing. Sarebbe perfetto se potessimo rivedere insieme le opzioni questa settimana.\n",
            "\n",
            "Fammi sapere quando avresti tempo per un incontro, così possiamo discutere più in dettaglio.\n",
            "\n",
            "Grazie mille per il tuo aiuto!\n",
            "\n",
            "Un caro saluto,\n",
            "\n",
            "Marco Rossi\n",
            "Marketing Manager\n",
            "VinoVeritas S.p.A.\n"
          ]
        }
      ]
    },
    {
      "cell_type": "markdown",
      "source": [
        "## Phishing Email Scenario Creation"
      ],
      "metadata": {
        "id": "0fqXkw5aVXB0"
      }
    },
    {
      "cell_type": "code",
      "source": [
        "system_prompt = \"\"\"\n",
        "You are an AI expert in recognizing phishing email communication and in writing phishing email characteristics based on employee's profile and company details.\n",
        "\"\"\"\n",
        "\n",
        "user_prompt = f\"\"\"\n",
        "Generate appropriate characteristics for a phishing email that the employee might receive.\n",
        "\n",
        "Employee_profile: {employee}\n",
        "Company_profile: {company}\n",
        "\n",
        "Combination of phishing type and customization level:\n",
        "- Credential harvesting - generic phishing\n",
        "\n",
        "\n",
        "Generate the following characteristics for each of the previous combinations:\n",
        "- phishing_type: (credential harvesting, malware installation, BEC with specified subtype)\n",
        "- customization: (spear phishing or generic phishing)\n",
        "- objective: The goal the attacker aims to achieve through the email.\n",
        "- impersonated_identity: The entity or individual the attacker pretends to be in the phishing email.\n",
        "- method: The specific mechanism used to deceive the recipient.\n",
        "- social_engineering_technique: The psychological manipulation strategies employed to deceive the recipient into taking the desired action.\n",
        "- tone_and_style: The writing style and emotional tone used in the phishing email to elicit a response.\n",
        "- length: A single word that characterizes the email's length.\n",
        "\"\"\"\n",
        "\n",
        "scenario_phishing_schema = {\n",
        "    \"name\": \"scenario_phishing\",\n",
        "    \"description\": \"Generate phishing email scenarios for a given employee and company profile\",\n",
        "    \"parameters\": {\n",
        "        \"type\": \"object\",\n",
        "        \"properties\": {\n",
        "            \"phishing_scenario\": {\n",
        "                \"type\": \"array\",\n",
        "                \"items\": {\n",
        "                    \"type\": \"object\",\n",
        "                    \"properties\": {\n",
        "                        \"phishing_type\": {\n",
        "                            \"type\": \"string\",\n",
        "                            \"description\": \"(credential harvesting, malware installation, BEC)\"\n",
        "                        },\n",
        "                        \"customization\": {\n",
        "                            \"type\": \"string\",\n",
        "                            \"description\": \"(spear phishing or generic phishing)\"\n",
        "                        },\n",
        "                        \"objective\": {\n",
        "                            \"type\": \"string\",\n",
        "                            \"description\": \"The primary goal the attacker aims to achieve through the email.\"\n",
        "                        },\n",
        "                        \"impersonated_identity\": {\n",
        "                            \"type\": \"string\",\n",
        "                            \"description\": \"The entity or individual the attacker pretends to be in the phishing email.\"\n",
        "                        },\n",
        "                        \"method\": {\n",
        "                            \"type\": \"string\",\n",
        "                            \"description\": \"The specific mechanism used to deceive the recipient.\"\n",
        "                        },\n",
        "                        \"social_engineering_technique\": {\n",
        "                            \"type\": \"string\",\n",
        "                            \"description\": \"The psychological manipulation strategies employed to deceive the recipient into taking the desired action.\"\n",
        "                        },\n",
        "                        \"tone_and_style\": {\n",
        "                            \"type\": \"string\",\n",
        "                            \"description\": \"The writing style and emotional tone used in the email to elicit a response.\"\n",
        "                        },\n",
        "                        \"length\": {\n",
        "                            \"type\": \"string\",\n",
        "                            \"description\": \"A single word that characterizes the email's length.\"\n",
        "                        }\n",
        "                    },\n",
        "                    \"required\": [\n",
        "                        \"phishing_type\",\n",
        "                        \"customization\",\n",
        "                        \"objective\",\n",
        "                        \"impersonated_identity\",\n",
        "                        \"method\",\n",
        "                        \"social_engineering_technique\",\n",
        "                        \"tone_and_style\",\n",
        "                        \"length\"\n",
        "                    ],\n",
        "                    \"additionalProperties\": False\n",
        "                }\n",
        "            }\n",
        "        },\n",
        "        \"required\": [\"phishing_scenario\"],\n",
        "        \"additionalProperties\": False\n",
        "    }\n",
        "}\n",
        "\n",
        "response = client.chat.completions.create(\n",
        "    model=\"gpt-4o-mini\",\n",
        "    messages=[\n",
        "        {\"role\": \"system\", \"content\": system_prompt},\n",
        "        {\"role\": \"user\", \"content\": user_prompt}\n",
        "    ],\n",
        "    functions=[scenario_phishing_schema],\n",
        "    function_call={\"name\": \"scenario_phishing\"},\n",
        "    temperature=1.2\n",
        ")\n"
      ],
      "metadata": {
        "id": "cBvkkrDfVXB1"
      },
      "execution_count": null,
      "outputs": []
    },
    {
      "cell_type": "code",
      "source": [
        "phishing_scenario = json.loads(response.choices[0].message.function_call.arguments)['phishing_scenario'][0]\n",
        "\n",
        "for key, value in phishing_scenario.items():\n",
        "    print(f\"{key}: {value}\")\n"
      ],
      "metadata": {
        "colab": {
          "base_uri": "https://localhost:8080/"
        },
        "id": "hRlIx8n0zo2m",
        "outputId": "769db73c-a546-4803-fe18-8a06d0c498cd"
      },
      "execution_count": null,
      "outputs": [
        {
          "output_type": "stream",
          "name": "stdout",
          "text": [
            "phishing_type: credential harvesting\n",
            "customization: generic phishing\n",
            "objective: To obtain Giulia's login credentials for the company's internal systems.\n",
            "impersonated_identity: VinoVeritas IT Department\n",
            "method: A fake email appearing to be from the IT department requesting a password reset verification.\n",
            "social_engineering_technique: Creating a sense of urgency by noting a supposed security breach that requires immediate action.\n",
            "tone_and_style: Professional but urgent, designed to instill concern and prompt quick responses.\n",
            "length: brief\n"
          ]
        }
      ]
    },
    {
      "cell_type": "markdown",
      "source": [
        "## Phishing Email Creation"
      ],
      "metadata": {
        "id": "Czdl3iJsvcae"
      }
    },
    {
      "cell_type": "code",
      "source": [
        "system_prompt = \"\"\"\n",
        "You are an expert in writing emails given the email characteristics.\n",
        "\"\"\"\n",
        "\n",
        "user_prompt = f\"\"\"\n",
        "Your task is to generate five distinct emails based on the provided \"Email characteristics\", tailoring each email to target the \"Receiver_profile\", who works at \"Company_profile\".\n",
        "\n",
        "For each email, adhere to the following guidelines:\n",
        "\n",
        "Email Generation Guidelines:\n",
        "\n",
        "1.  Adaptive Language:\n",
        "    Use language appropriate for the sender described in \"impersonated_identity\" within each \"Email characteristic\".\n",
        "                   In general:\n",
        "                          If \"impersonated_identity\" coming from country of the company, use the company's national language (e.g., Italian for a company based in Italy).\n",
        "                          If \"impersonated_identity\" is an international company,person or service provider use English.\n",
        "                          Important: Subject and body must be written in the same language.\n",
        "                          If the subject is written in Italian then also the body must be written in Italian.\n",
        "                          If the subject is written in English then also the body must be written in English.\n",
        "\n",
        "2.  Realistic & Plausible Details (Crucial):\n",
        "    Invent all necessary details to make the emails highly realistic (eg: names, projects, deadlines, tools, bank details, emails) without using placeholders.\n",
        "    Every detail must be concrete and contribute to the email's believability.\n",
        "    When you include links, represent them only as `<<link>>`. This should be plausible in the context of the email.\n",
        "\n",
        "3.  Generic vs. Spear Phishing Customization:\n",
        "    If the \"customization\" is specified as \"generic phishing\", ensure the email content, salutations, and overall personalization are generic. Avoid using details from the \"Receiver_profile\" or \"Company_profile\" directly. The email should appear as a generic phishing attempt.\n",
        "    If the \"customization\" is \"spear phishing\", leverage the \"Receiver_profile\" and \"Company_profile\" to create highly targeted and believable emails.\n",
        "\n",
        "4.  Content Based on \"Email Characteristics\":\n",
        "    For each of the five \"Email characteristics\" sets provided below, generate a unique email that precisely matches the described:\n",
        "        Email characteristics:{phishing_scenario}\n",
        "\n",
        "Output Format:\n",
        "    For each of the five \"Email characteristic\" sets, clearly output the generated email with a Subject and Body.\n",
        "Data to use for email generation:\n",
        "\n",
        "\n",
        "Receiver_profile:{employee}\n",
        "Company_profile:{company}\n",
        "\n",
        "Output Format:\n",
        "For each \"email characteristic\", provide:\n",
        "Subject: [A clear, specific subject line in the appropriate language]\n",
        "Body: [Contextually appropriate content in the same language of the subject]\n",
        "\"\"\"\n",
        "\n",
        "\n",
        "\n",
        "ham_email_schema = {\n",
        "  \"name\": \"phishing_email\",\n",
        "  \"description\": \"Generate an email for a specific employee in a company context\",\n",
        "  \"parameters\": {\n",
        "    \"type\": \"object\",\n",
        "    \"properties\": {\n",
        "      \"identifier\": {\n",
        "        \"type\": \"string\",\n",
        "        \"description\": \"A unique identifier in the format 'CompanyName-EmployeeName'\"\n",
        "      },\n",
        "      \"emails\": {\n",
        "        \"type\": \"array\",\n",
        "        \"items\": {\n",
        "          \"type\": \"object\",\n",
        "          \"properties\": {\n",
        "            \"Subject\": {\n",
        "              \"type\": \"string\",\n",
        "              \"description\": \"A clear, specific subject line in the appropriate language\"\n",
        "            },\n",
        "            \"Body\": {\n",
        "              \"type\": \"string\",\n",
        "              \"description\": \"Contextually appropriate content in the same language of the subject\"\n",
        "            }\n",
        "          },\n",
        "          \"required\": [\"Subject\", \"Body\"],\n",
        "          \"additionalProperties\": False\n",
        "        }\n",
        "      }\n",
        "    },\n",
        "    \"required\": [\"identifier\", \"emails\"],\n",
        "    \"additionalProperties\": False\n",
        "  }\n",
        "}\n",
        "\n",
        "\n",
        "response = client.chat.completions.create(\n",
        "    model = \"gpt-4o\",\n",
        "    messages=[\n",
        "        {\"role\": \"system\", \"content\": system_prompt},\n",
        "        {\"role\": \"user\",   \"content\": user_prompt}\n",
        "    ],\n",
        "    functions = [ham_email_schema],\n",
        "    function_call = {\"name\": \"phishing_email\"},\n",
        "    temperature = 1\n",
        ")"
      ],
      "metadata": {
        "id": "k6qYhoepvlis"
      },
      "execution_count": null,
      "outputs": []
    },
    {
      "cell_type": "code",
      "source": [
        "phishing_emails = json.loads(response.choices[0].message.function_call.arguments)['emails'][0]\n",
        "\n",
        "for key, value in phishing_emails.items():\n",
        "    print(f\"{key}: {value}\")"
      ],
      "metadata": {
        "colab": {
          "base_uri": "https://localhost:8080/"
        },
        "id": "Gw7qmmtwyqfO",
        "outputId": "27e449be-183c-402c-f681-1186781b6f14"
      },
      "execution_count": null,
      "outputs": [
        {
          "output_type": "stream",
          "name": "stdout",
          "text": [
            "Subject: URGENTE: Verifica delle Credenziali Necessaria\n",
            "Body: Gentile Giulia,\n",
            "\n",
            "A causa di una recente violazione della sicurezza nei nostri sistemi interni, è necessario aggiornare immediatamente le vostre credenziali. Si prega di seguire il link sottostante per verificare il proprio account e resettare la password:\n",
            "\n",
            "<<link>>\n",
            "\n",
            "Si prega di completare questa operazione entro le prossime 24 ore per evitare blocchi dell'account.\n",
            "\n",
            "Grazie per la vostra collaborazione.\n",
            "\n",
            "Cordiali saluti,\n",
            "\n",
            "Il Dipartimento IT di VinoVeritas\n"
          ]
        }
      ]
    }
  ]
}